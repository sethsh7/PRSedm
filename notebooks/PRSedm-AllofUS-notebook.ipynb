{
 "cells": [
  {
   "cell_type": "markdown",
   "metadata": {},
   "source": [
    "# Generate PRS with PRSedm\n",
    "## Updated 11/8/24\n",
    "Please either install the package via pip, anaconda or locally from the bucket as below."
   ]
  },
  {
   "cell_type": "markdown",
   "metadata": {},
   "source": [
    "### Install PRSedm from the bucket (optional)\n",
    "*Must* restart kernel after install"
   ]
  },
  {
   "cell_type": "code",
   "execution_count": null,
   "metadata": {},
   "outputs": [],
   "source": [
    "!gsutil cp $WORKSPACE_BUCKET/scoreprs/<prsedm>.whl\n",
    "!pip install <prsedm>.whl --force-reinstall"
   ]
  },
  {
   "cell_type": "markdown",
   "metadata": {},
   "source": [
    "### Setup the workspace and load the Hail VDS\n",
    "Must be run with environment \"Hail Genomics Analysis\" (dataproc)"
   ]
  },
  {
   "cell_type": "code",
   "execution_count": null,
   "metadata": {},
   "outputs": [],
   "source": [
    "from datetime import datetime\n",
    "import os\n",
    "import pandas as pd\n",
    "import math\n",
    "import numpy as np\n",
    "import pysam\n",
    "import prsedm\n",
    "import warnings\n",
    "\n",
    "#Define local and workspace bucket locations\n",
    "bucket = os.getenv('WORKSPACE_BUCKET')\n",
    "workspace = \"/home/jupyter/workspaces/<myworkspace>\""
   ]
  },
  {
   "cell_type": "markdown",
   "metadata": {},
   "source": [
    "### Generate a list of required variants"
   ]
  },
  {
   "cell_type": "code",
   "execution_count": null,
   "metadata": {},
   "outputs": [],
   "source": [
    "#Retrieve variant list from package\n",
    "df = prsedm.get_snp_db('t1dgrs2-sharp24')\n",
    "df = df.drop_duplicates().reset_index(drop=True)\n",
    "\n",
    "#Build a list of variant positions to extract\n",
    "pos_col='position_hg38'#change to hg19 if required\n",
    "variantIntervals = [\n",
    "    f\"chr{row['contig_id']}:{row[pos_col]}-{row[pos_col] + 1}\"\n",
    "    for _, row in df.iterrows()\n",
    "]\n",
    "print(f\"Number of unique variants to extract: {len(variantIntervals)}\")"
   ]
  },
  {
   "cell_type": "markdown",
   "metadata": {},
   "source": [
    "### Use Hail to retrieve variants from the VDS into VCF"
   ]
  },
  {
   "cell_type": "code",
   "execution_count": null,
   "metadata": {},
   "outputs": [],
   "source": [
    "#Initiate Hail\n",
    "import hail as hl\n",
    "\n",
    "with warnings.catch_warnings():\n",
    "    warnings.simplefilter(\"ignore\")\n",
    "    hl.init(idempotent=True)\n",
    "    hl.default_reference('GRCh38')\n",
    "\n",
    "    #Load the Hail comprehensive VDS for srWGS\n",
    "    vds_path = os.getenv('WGS_VDS_PATH')\n",
    "    vds = hl.vds.read_vds(vds_path)\n",
    "\n",
    "#Must be chunked up as querying >1200 regions causes crash\n",
    "print(\"Retrieve chunks from VDS and densify...\")\n",
    "chunk_size=1000\n",
    "chunked_intervals = [variantIntervals[i:i + chunk_size] for i in range(0, len(variantIntervals), chunk_size)]\n",
    "mt_subsets = []\n",
    "for i,chunk in enumerate(chunked_intervals):\n",
    "    print(f\"Processing chunk: {i+1}\")\n",
    "    vds_subset = hl.vds.filter_intervals(vds,\n",
    "                                         [hl.parse_locus_interval(x) for x in chunk])\n",
    "\n",
    "    vds_subset=hl.vds.split_multi(vds_subset)\n",
    "    mt=hl.vds.to_dense_mt(vds_subset)\n",
    "    mt_subsets.append(mt)\n",
    "\n",
    "#Combine all\n",
    "print(\"Combining retrieved chunks...\")\n",
    "mt = mt_subsets[0]\n",
    "for mt_n in mt_subsets[1:]:\n",
    "    mt = mt.union_rows(mt_n)\n",
    "\n",
    "#Process the merged data\n",
    "print(\"Process merged MT...\")\n",
    "mt=hl.split_multi_hts(mt)\n",
    "mt=mt.drop('FT')\n",
    "mt=hl.variant_qc(mt)\n",
    "mt=mt.annotate_rows(info=hl.struct(AF=mt.variant_qc.AF))\n",
    "\n",
    "#Export VCF\n",
    "print(\"Export to VCF and store in bucket...\")\n",
    "hl.export_vcf(mt, f'{bucket}/temp.vcf.bgz')"
   ]
  },
  {
   "cell_type": "markdown",
   "metadata": {},
   "source": [
    "### Copy imputation reference data if required"
   ]
  },
  {
   "cell_type": "code",
   "execution_count": null,
   "metadata": {},
   "outputs": [],
   "source": [
    "# Copy TOPMED reference data\n",
    "!gsutil cp -r $WORKSPACE_BUCKET/BravoFreeze8 .\n",
    "# Index the data\n",
    "!for f in BravoFreeze8/*.vcf.gz;do tabix -f $f;done"
   ]
  },
  {
   "cell_type": "markdown",
   "metadata": {},
   "source": [
    "### Call PRSedm to generate PRS\n",
    "Recommended to switch to 'General Analysis Environment'"
   ]
  },
  {
   "cell_type": "code",
   "execution_count": null,
   "metadata": {},
   "outputs": [],
   "source": [
    "# Generate GRS\n",
    "ref_dir=workspace+'/BravoFreeze8/'\n",
    "vcf=workspace+'/<mygenotypes>.vcf.bgz'\n",
    "\n",
    "start_time = datetime.now()\n",
    "output = prsedm.gen_dm(vcf=vcf, \n",
    "                            col=\"GT\", \n",
    "                            build=\"hg38\", \n",
    "                            prsflags=\"t1dgrs2-sharp24\", \n",
    "                            impute=1, \n",
    "                            ref_dir=ref_dir,\n",
    "                            norm=1,\n",
    "                            parallel=1,\n",
    "                            ntasks=16,\n",
    "                            batch_size=1)\n",
    "end_time = datetime.now()\n",
    "print(f\"Execution time: {(end_time - start_time).total_seconds():.2f} seconds\")\n",
    "\n",
    "#Store the result in the bucket\n",
    "output.to_csv(f\"{bucket}/prsedm_result.csv\", index=False)"
   ]
  }
 ],
 "metadata": {
  "kernelspec": {
   "display_name": "Python 3",
   "language": "python",
   "name": "python3"
  },
  "language_info": {
   "codemirror_mode": {
    "name": "ipython",
    "version": 3
   },
   "file_extension": ".py",
   "mimetype": "text/x-python",
   "name": "python",
   "nbconvert_exporter": "python",
   "pygments_lexer": "ipython3",
   "version": "3.10.12"
  },
  "toc": {
   "base_numbering": 1,
   "nav_menu": {},
   "number_sections": true,
   "sideBar": true,
   "skip_h1_title": false,
   "title_cell": "Table of Contents",
   "title_sidebar": "Contents",
   "toc_cell": false,
   "toc_position": {},
   "toc_section_display": true,
   "toc_window_display": false
  }
 },
 "nbformat": 4,
 "nbformat_minor": 2
}
